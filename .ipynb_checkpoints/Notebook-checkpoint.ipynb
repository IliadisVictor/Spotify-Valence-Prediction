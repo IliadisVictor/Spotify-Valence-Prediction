{
 "cells": [
  {
   "cell_type": "markdown",
   "id": "385257b5",
   "metadata": {},
   "source": [
    "# Dissecting Spotify Valence\n",
    "In this assignment i will try to dissect Spotify's Valence metric.\n",
    "\n",
    "---\n",
    "\n",
    "> Iliadis Viktoras, Undergraduate Student <br />\n",
    "> Department of Management Science and Technology <br />\n",
    "> Athens University of Economics and Business <br />\n",
    "> iliadisviktoras@gmail.com"
   ]
  },
  {
   "cell_type": "markdown",
   "id": "272245ef",
   "metadata": {},
   "source": [
    "In this assignment we will try to untangle the mystery behind spotify's ( originaly Echo Nest's ) valence metric that indicates the emotional impact of a song , particulary it's ability to make you happy ( positive valence ) or sad ( negative valence) by listening to it . \n",
    "\n",
    "https://machinelearningmastery.com/calculate-feature-importance-with-python/ εδω εξηγεί για το μοντέλο πως προβλεπω ποια feature επαιξαν ρολο , οπως ζηταει στο προτελευταίο "
   ]
  },
  {
   "cell_type": "code",
   "execution_count": 1,
   "id": "31a482ac",
   "metadata": {},
   "outputs": [],
   "source": [
    "import pandas as pd\n",
    "import numpy as np\n",
    "import scipy.stats as stats\n",
    "import statsmodels.api as sm\n",
    "import statsmodels.formula.api as smf\n",
    "\n",
    "import glob\n",
    "import re\n",
    "from datetime import datetime\n",
    "\n",
    "import spotipy\n",
    "from spotipy.oauth2 import SpotifyClientCredentials\n",
    "\n",
    "import matplotlib.pyplot as plt\n",
    "import seaborn as sns\n",
    "\n",
    "%matplotlib inline"
   ]
  },
  {
   "cell_type": "code",
   "execution_count": null,
   "id": "9302f6b2",
   "metadata": {},
   "outputs": [],
   "source": []
  }
 ],
 "metadata": {
  "kernelspec": {
   "display_name": "Python 3 (ipykernel)",
   "language": "python",
   "name": "python3"
  },
  "language_info": {
   "codemirror_mode": {
    "name": "ipython",
    "version": 3
   },
   "file_extension": ".py",
   "mimetype": "text/x-python",
   "name": "python",
   "nbconvert_exporter": "python",
   "pygments_lexer": "ipython3",
   "version": "3.9.0"
  }
 },
 "nbformat": 4,
 "nbformat_minor": 5
}
